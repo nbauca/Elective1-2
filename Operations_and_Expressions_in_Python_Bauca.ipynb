{
  "nbformat": 4,
  "nbformat_minor": 0,
  "metadata": {
    "colab": {
      "name": "Operations and Expressions in Python Bauca.ipynb",
      "provenance": [],
      "collapsed_sections": [],
      "authorship_tag": "ABX9TyPZZlhaOaA6ajxBPjnby3Yd",
      "include_colab_link": true
    },
    "kernelspec": {
      "name": "python3",
      "display_name": "Python 3"
    },
    "language_info": {
      "name": "python"
    }
  },
  "cells": [
    {
      "cell_type": "markdown",
      "metadata": {
        "id": "view-in-github",
        "colab_type": "text"
      },
      "source": [
        "<a href=\"https://colab.research.google.com/github/nbauca/Elective1-2/blob/main/Operations_and_Expressions_in_Python_Bauca.ipynb\" target=\"_parent\"><img src=\"https://colab.research.google.com/assets/colab-badge.svg\" alt=\"Open In Colab\"/></a>"
      ]
    },
    {
      "cell_type": "markdown",
      "source": [
        "##Boolean Operators"
      ],
      "metadata": {
        "id": "XvbsUzIWf89B"
      }
    },
    {
      "cell_type": "code",
      "source": [
        "print(10>9)\n",
        "print(9==9)\n",
        "print(10<9)"
      ],
      "metadata": {
        "colab": {
          "base_uri": "https://localhost:8080/"
        },
        "id": "HCNSVjG4gB4p",
        "outputId": "bb82cf3e-6605-44ac-a810-f2dae0cc7ea7"
      },
      "execution_count": 1,
      "outputs": [
        {
          "output_type": "stream",
          "name": "stdout",
          "text": [
            "True\n",
            "True\n",
            "False\n"
          ]
        }
      ]
    },
    {
      "cell_type": "code",
      "source": [
        "10>9\n",
        "9==9\n",
        "10<9"
      ],
      "metadata": {
        "colab": {
          "base_uri": "https://localhost:8080/"
        },
        "id": "u5t4wmv8gRhy",
        "outputId": "4fb67025-aa1d-4e62-bbe3-f1f3f9eac42c"
      },
      "execution_count": 2,
      "outputs": [
        {
          "output_type": "execute_result",
          "data": {
            "text/plain": [
              "False"
            ]
          },
          "metadata": {},
          "execution_count": 2
        }
      ]
    },
    {
      "cell_type": "markdown",
      "source": [
        "##Bool Function"
      ],
      "metadata": {
        "id": "hmiIDk9SgW3B"
      }
    },
    {
      "cell_type": "code",
      "source": [
        "print(bool(\"Hello\"))\n",
        "print(bool(15))\n",
        "print(bool())\n",
        "print(bool(False))\n",
        "print(bool(None))\n",
        "print(bool([]))"
      ],
      "metadata": {
        "colab": {
          "base_uri": "https://localhost:8080/"
        },
        "id": "8RvYhoYPgZTJ",
        "outputId": "cd3ba9c9-e754-49b2-cad5-145495092280"
      },
      "execution_count": 4,
      "outputs": [
        {
          "output_type": "stream",
          "name": "stdout",
          "text": [
            "True\n",
            "True\n",
            "False\n",
            "False\n",
            "False\n",
            "False\n"
          ]
        }
      ]
    },
    {
      "cell_type": "markdown",
      "source": [
        "##Functions"
      ],
      "metadata": {
        "id": "XuaOMYTZgtUA"
      }
    },
    {
      "cell_type": "code",
      "source": [
        "def function_name():\n",
        "  return False\n",
        "\n",
        "print(function_name())"
      ],
      "metadata": {
        "colab": {
          "base_uri": "https://localhost:8080/"
        },
        "id": "k2XdV5jyhAoh",
        "outputId": "08b2a116-9698-4c6a-c44f-d50220812421"
      },
      "execution_count": 9,
      "outputs": [
        {
          "output_type": "stream",
          "name": "stdout",
          "text": [
            "False\n"
          ]
        }
      ]
    },
    {
      "cell_type": "code",
      "source": [
        "def function_name():\n",
        "  return True\n",
        "\n",
        "if function_name():\n",
        "  print(\"Yes\")\n",
        "else:\n",
        "  print(\"No\")"
      ],
      "metadata": {
        "colab": {
          "base_uri": "https://localhost:8080/"
        },
        "id": "7C3xby1-hMuy",
        "outputId": "99e83435-4d96-4e9e-92c7-58fdb58b0a19"
      },
      "execution_count": 10,
      "outputs": [
        {
          "output_type": "stream",
          "name": "stdout",
          "text": [
            "Yes\n"
          ]
        }
      ]
    },
    {
      "cell_type": "markdown",
      "source": [
        "##Application 1"
      ],
      "metadata": {
        "id": "IMnlWePGhhpQ"
      }
    },
    {
      "cell_type": "code",
      "source": [
        "print(10>9)\n",
        "\n",
        "a = 6\n",
        "b = 7\n",
        "\n",
        "print(a==b)\n",
        "print(a!=a)"
      ],
      "metadata": {
        "colab": {
          "base_uri": "https://localhost:8080/"
        },
        "id": "5U9mQxpXhkrp",
        "outputId": "a94cda8f-0701-41de-91d1-a04a825cf20a"
      },
      "execution_count": 11,
      "outputs": [
        {
          "output_type": "stream",
          "name": "stdout",
          "text": [
            "True\n",
            "False\n",
            "False\n"
          ]
        }
      ]
    },
    {
      "cell_type": "markdown",
      "source": [
        "##Python Operators"
      ],
      "metadata": {
        "id": "Xsck7i_IhxtC"
      }
    },
    {
      "cell_type": "code",
      "source": [
        "#Arithmetic Operation\n",
        "\n",
        "print(10+8)\n",
        "print(10-9)\n",
        "print(10*9)\n",
        "print(10/5)\n",
        "print(10**2)"
      ],
      "metadata": {
        "colab": {
          "base_uri": "https://localhost:8080/"
        },
        "id": "uW3-mrQDh04Q",
        "outputId": "67ea626e-c017-49bd-b595-511e3c895423"
      },
      "execution_count": 12,
      "outputs": [
        {
          "output_type": "stream",
          "name": "stdout",
          "text": [
            "18\n",
            "1\n",
            "90\n",
            "2.0\n",
            "100\n"
          ]
        }
      ]
    },
    {
      "cell_type": "markdown",
      "source": [
        "##Python Bitwise Operators"
      ],
      "metadata": {
        "id": "Ef2CkANTiJ5Z"
      }
    },
    {
      "cell_type": "code",
      "source": [
        "print(60 & 13)\n",
        "print(60 | 13)\n",
        "print(60 ^ 13)\n",
        "\n",
        "60 >> 1"
      ],
      "metadata": {
        "colab": {
          "base_uri": "https://localhost:8080/"
        },
        "id": "xv2aUMIviP3x",
        "outputId": "d308a418-5fa5-4d4a-d3ac-da6cdd183e78"
      },
      "execution_count": 13,
      "outputs": [
        {
          "output_type": "stream",
          "name": "stdout",
          "text": [
            "12\n",
            "61\n",
            "49\n"
          ]
        },
        {
          "output_type": "execute_result",
          "data": {
            "text/plain": [
              "30"
            ]
          },
          "metadata": {},
          "execution_count": 13
        }
      ]
    },
    {
      "cell_type": "markdown",
      "source": [
        "##Python Assignment Operators"
      ],
      "metadata": {
        "id": "z3UEdeRgibfC"
      }
    },
    {
      "cell_type": "code",
      "source": [
        "x = 6\n",
        "x //= 3\n",
        "print(x)"
      ],
      "metadata": {
        "colab": {
          "base_uri": "https://localhost:8080/"
        },
        "id": "pSVDp-VBifJ6",
        "outputId": "6abd33d9-ac6a-4b55-fb5f-4960cd000b70"
      },
      "execution_count": 14,
      "outputs": [
        {
          "output_type": "stream",
          "name": "stdout",
          "text": [
            "2\n"
          ]
        }
      ]
    },
    {
      "cell_type": "markdown",
      "source": [
        "##Logical Operators"
      ],
      "metadata": {
        "id": "KS9Cx8QNilwC"
      }
    },
    {
      "cell_type": "code",
      "source": [
        "x = True\n",
        "y = False\n",
        "\n",
        "print(x and y)\n",
        "print(x or y)"
      ],
      "metadata": {
        "colab": {
          "base_uri": "https://localhost:8080/"
        },
        "id": "J6CHTu_bisM8",
        "outputId": "cbd4ce6c-7003-465d-dc64-28998c1cbc43"
      },
      "execution_count": 15,
      "outputs": [
        {
          "output_type": "stream",
          "name": "stdout",
          "text": [
            "False\n",
            "True\n"
          ]
        }
      ]
    },
    {
      "cell_type": "markdown",
      "source": [
        "##Identity Operators"
      ],
      "metadata": {
        "id": "8Ld5JIUDi1pT"
      }
    },
    {
      "cell_type": "code",
      "source": [
        "x is y\n",
        "x is not y"
      ],
      "metadata": {
        "colab": {
          "base_uri": "https://localhost:8080/"
        },
        "id": "l75jzfOAi4cX",
        "outputId": "4a877714-57eb-4648-ae71-2759c14f3af0"
      },
      "execution_count": 16,
      "outputs": [
        {
          "output_type": "execute_result",
          "data": {
            "text/plain": [
              "True"
            ]
          },
          "metadata": {},
          "execution_count": 16
        }
      ]
    }
  ]
}